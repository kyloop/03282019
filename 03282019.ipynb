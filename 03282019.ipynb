{
 "cells": [
  {
   "cell_type": "markdown",
   "metadata": {},
   "source": [
    "## Question #1\n",
    "### Given a string representing a Roman numeral, write a function to compute the Arabic numerical equivalent."
   ]
  },
  {
   "cell_type": "code",
   "execution_count": 2,
   "metadata": {},
   "outputs": [],
   "source": [
    "def roman_to_arabic(roman_numeral):\n",
    "    roman_dict= {'I': 1, 'V': 5, 'X': 10, 'L': 50, 'C': 100, 'D': 500, 'M': 1000}\n",
    "    sum_total=0\n",
    "    for i in roman_numeral:\n",
    "        #print(roman_dict[i])\n",
    "        sum_total+=roman_dict[i]\n",
    "    return(roman_numeral,sum_total)\n",
    "   "
   ]
  },
  {
   "cell_type": "code",
   "execution_count": 5,
   "metadata": {
    "scrolled": true
   },
   "outputs": [
    {
     "name": "stdout",
     "output_type": "stream",
     "text": [
      "Answer #1\n",
      "Roman numeral:MDCCLXXVI is convert to Arabic Numerical:1776\n"
     ]
    }
   ],
   "source": [
    "roman_numeral,arabic_numerical = roman_to_arabic(\"MDCCLXXVI\")\n",
    "print(\"Answer #1\")\n",
    "print(\"Roman numeral:%s is convert to Arabic Numerical:%d\" %(roman_numeral, arabic_numerical))"
   ]
  },
  {
   "cell_type": "markdown",
   "metadata": {},
   "source": [
    "## Question #2\n",
    "\n",
    "### Calculate the Acres of Corns and Oats which generates the maximum profit\n",
    "\n",
    "Given intances:\n",
    " - a) X = 240, Y = 320, P1 = $40, P2 = $30, H1 = 2, H2 = 1\n",
    " - b) X = 300, Y = 380, P1 = $70, P2 = $45, H1 = 3, H2 = 1\n",
    " - c) X = 180, Y = 420, P1 = $65, P2 = $55, H1 = 3, H2 = 2"
   ]
  },
  {
   "cell_type": "markdown",
   "metadata": {},
   "source": [
    "### Function to calculate profit for EACH instance"
   ]
  },
  {
   "cell_type": "code",
   "execution_count": 137,
   "metadata": {},
   "outputs": [],
   "source": [
    "'''Function to calculate profit for EACH instance'''\n",
    "def profitFunc(instance):    \n",
    "    '''\n",
    "    x= Total acres of land\n",
    "    y= Total hours of labors available\n",
    "    p1= Profit($) per acres of Corn\n",
    "    p2= Profit($) per acres of Oat\n",
    "    h1= Hours needs to play per acres of Corn\n",
    "    h2= Hours needs to play per acres of Oat    \n",
    "    A= acres of Corn\n",
    "    B= acres of Oat\n",
    "    profit= Generated Profit based on the calculated acres of Oat and Corns\n",
    "    \n",
    "    Return: profit, acres of Corns, acres of Oat\n",
    "    '''\n",
    "    alst=instance\n",
    "    \n",
    "    B = (alst[1]-(alst[4]*alst[0]))/(alst[5]-alst[4])\n",
    "    A = alst[0]-B\n",
    "    \n",
    "    #Calculate Profit\n",
    "    profit = (alst[2] * A) + (alst[3] * B)\n",
    "    return(profit, A,B)"
   ]
  },
  {
   "cell_type": "markdown",
   "metadata": {},
   "source": [
    "### Function to calculate the Maximum profit, Acres of Oat, Acres of Corns "
   ]
  },
  {
   "cell_type": "code",
   "execution_count": 138,
   "metadata": {},
   "outputs": [],
   "source": [
    "def findMaxProftFunc(instances):\n",
    "    '''\n",
    "    function takes list format of instances with the following sequence\n",
    "    x= Total acres of land\n",
    "    y= Total hours of labors available\n",
    "    p1= Profit($) per acres of Corn\n",
    "    p2= Profit($) per acres of Oat\n",
    "    h1= Hours needs to play per acres of Corn\n",
    "    h2= Hours needs to play per acres of Oat    \n",
    "    '''\n",
    "    #initialize variables to store the Best values of Profit, Acres of Corns, Acres of Oat\n",
    "    best_profit, best_corn,best_oat=0,0,0\n",
    "    for lst in instances:\n",
    "        #Call out the profitFunc() to calculate the profit for each instance\n",
    "        profit, corn,oat = profitFunc(lst)\n",
    "        #Compare the profit and pick out the best values of profit\n",
    "        if profit > best_profit: \n",
    "            best_profit = profit\n",
    "            best_corn = corn\n",
    "            best_oat = oat                    \n",
    "    return(best_profit, best_corn, best_oat)"
   ]
  },
  {
   "cell_type": "code",
   "execution_count": 139,
   "metadata": {},
   "outputs": [
    {
     "name": "stdout",
     "output_type": "stream",
     "text": [
      "Answer #2\n",
      "The maximum profit $14500 with acres of Corn = 40, acres of Oat = 260\n"
     ]
    }
   ],
   "source": [
    "'''Store the provided instances in a list format which will be input for the function'''\n",
    "instances=[[240,320, 40,30,2,1],\n",
    "           [300,380,70,45,3,1],\n",
    "           [180,420,65,55,3,2]]\n",
    "\n",
    "a,b,c=findMaxProftFunc(instances)        \n",
    "print(\"Answer #2\")\n",
    "print(\"The maximum profit $%0.0f with acres of Corn = %0.0f, acres of Oat = %0.0f\"%(a,b,c))"
   ]
  },
  {
   "cell_type": "markdown",
   "metadata": {},
   "source": [
    "## Question #3\n",
    "\n",
    "### Given the set of data points, construct a piece-wise linear best-fit approximation (R^2 > 95%) to the curve. https://www.dropbox.com/s/8fxxgkrhej7xb0a/jsed_curve_fit.csv?dl=0 \n",
    "\n",
    "Summary:\n",
    "The final liner model (i.e. y=0.13x + 129.75) which was built resulted with R-square = 95%. This means that 95% variation of y is able to be described by the variation of X value."
   ]
  },
  {
   "cell_type": "code",
   "execution_count": 101,
   "metadata": {},
   "outputs": [],
   "source": [
    "import pandas as pd\n",
    "import numpy as np\n",
    "import matplotlib.pyplot as plt\n",
    "%matplotlib inline"
   ]
  },
  {
   "cell_type": "markdown",
   "metadata": {},
   "source": [
    "#### Loading Dataset"
   ]
  },
  {
   "cell_type": "code",
   "execution_count": 122,
   "metadata": {},
   "outputs": [
    {
     "name": "stdout",
     "output_type": "stream",
     "text": [
      "Size of Dataset:  (197, 2)\n"
     ]
    }
   ],
   "source": [
    "df=pd.read_csv(\"jsed_curve_fit.csv\")\n",
    "print(\"Size of Dataset: \",df.shape)\n",
    "X=df.x\n",
    "y=df.y\n",
    "\n",
    "#Reshape dataset for modeling\n",
    "X=np.array(df.x).reshape(-1,1)\n",
    "y=np.array(df.y)"
   ]
  },
  {
   "cell_type": "markdown",
   "metadata": {},
   "source": [
    "#### Modeling"
   ]
  },
  {
   "cell_type": "code",
   "execution_count": 135,
   "metadata": {},
   "outputs": [
    {
     "data": {
      "image/png": "[encoded data removed]",
      "text/plain": [
       "<Figure size 864x360 with 1 Axes>"
      ]
     },
     "metadata": {},
     "output_type": "display_data"
    }
   ],
   "source": [
    "# Loading Linear Library\n",
    "from sklearn.linear_model import LinearRegression\n",
    "\n",
    "#Modeling\n",
    "lr = LinearRegression()\n",
    "reg=lr.fit(X,y)\n",
    "ypred=reg.predict(X)\n",
    "\n",
    "#plot Linear model (Original Data & Predicted Data)\n",
    "plt.figure( figsize=(12,5))\n",
    "org_scatter = plt.scatter(x=df.x, y=df.y, marker=\"x\") #Plot\n",
    "pred_scatter = plt.scatter(X, ypred, color =\"red\", marker=\"*\") #Plot\n",
    "plt.title(\"y-X Scatter plot\", fontsize=20)\n",
    "plt.xlabel(\"x\", fontsize=15)\n",
    "plt.ylabel(\"y\", fontsize=15)\n",
    "plt.text(x=0, y=300, s=\"y = %0.2fx + %0.2f\"%(reg.coef_[0], reg.intercept_), fontsize=20)\n",
    "plt.text(x=0, y=320, s=\"R^2 = %0.0F%%\"%(reg.score(X, y)*100), fontsize=20)\n",
    "plt.legend((org_scatter, pred_scatter), \n",
    "           [\"Orginal Data\", \"Predicted Data\"], loc=\"right\")\n",
    "plt.show()"
   ]
  }
 ],
 "metadata": {
  "kernelspec": {
   "display_name": "Python 3",
   "language": "python",
   "name": "python3"
  },
  "language_info": {
   "codemirror_mode": {
    "name": "ipython",
    "version": 3
   },
   "file_extension": ".py",
   "mimetype": "text/x-python",
   "name": "python",
   "nbconvert_exporter": "python",
   "pygments_lexer": "ipython3",
   "version": "3.6.7"
  }
 },
 "nbformat": 4,
 "nbformat_minor": 2
}
